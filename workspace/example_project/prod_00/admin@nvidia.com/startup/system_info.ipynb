{
"cells": [
  {
  "cell_type": "markdown",
  "id": "b758695b",
  "metadata": {},
  "source": [
    "# System Info"
  ]
  },
  {
  "cell_type": "markdown",
  "id": "9f7cd9e6",
  "metadata": {},
  "source": [
    "In this notebook, System Info is checked with the FLARE API."
  ]
  },
  {
  "cell_type": "markdown",
  "id": "ea50ba28",
  "metadata": {},
  "source": [
    "#### 1. Connect to the FL System with the FLARE API\n",
    "\n",
    "Use `new_secure_session()` to initiate a session connecting to the FL Server with the FLARE API. The necessary arguments are the username of the admin user you are using and the corresponding startup kit location.\n",
    "\n",
    "In the code example below, we get the `admin_user_dir` by concatenating the workspace root with the default directories that are created if you provision a project with a given project name. You can change the values to what applies to your system if needed.\n",
    "\n",
    "Note that if debug mode is not enabled, there is no output after initiating a session successfully, so instead we print the output of `get_system_info()`. If you are unable to connect and initiate a session, make sure that your FL Server is running and that the configurations are correct with the right path to the admin startup kit directory."
  ]
  },
  {
  "cell_type": "code",
  "execution_count": null,
  "id": "0166942d",
  "metadata": {
    "collapsed": true
  },
  "outputs": [],
  "source": [
    "# Run this pip install if NVFlare is not installed in your Jupyter Notebook\n",
    "\n",
    "# !python3 -m pip install -U nvflare"
  ]
  },
  {
  "cell_type": "code",
  "execution_count": null,
  "id": "c3dbde69",
  "metadata": {},
  "outputs": [],
  "source": [
    "import os\n",
    "from nvflare.fuel.flare_api.flare_api import new_secure_session\n",
    "\n",
    "username = \"admin@nvidia.com\"  # change this to your own username\n",
    "\n",
    "sess = new_secure_session(\n",
    "    username=username,\n",
    "    startup_kit_location=os.getcwd()\n",
    ")\n",
    "print(sess.get_system_info())"
  ]
  },
  {
  "cell_type": "markdown",
  "id": "31ccb6a6",
  "metadata": {},
  "source": [
    "### 2. Shutting Down the FL System\n",
    "\n",
    "As of now, there is no specific FLARE API command for shutting down the FL system, but the FLARE API can use the `do_command()` function of the underlying AdminAPI to submit any commands that the FLARE Console supports including shutdown commands to the clients and server:"
  ]
  },
  {
  "cell_type": "code",
  "execution_count": null,
  "id": "b0d8aa9c",
  "metadata": {},
  "outputs": [],
  "source": [
    "print(sess.api.do_command(\"shutdown client\"))\n",
    "print(sess.api.do_command(\"shutdown server\"))\n",
    "\n",
    "sess.close()"
  ]
  }
],
"metadata": {
  "kernelspec": {
  "display_name": "Python 3 (ipykernel)",
  "language": "python",
  "name": "python3"
  },
  "language_info": {
  "codemirror_mode": {
    "name": "ipython",
    "version": 3
  },
  "file_extension": ".py",
  "mimetype": "text/x-python",
  "name": "python",
  "nbconvert_exporter": "python",
  "pygments_lexer": "ipython3",
  "version": "3.8.13"
  },
  "vscode": {
  "interpreter": {
    "hash": "31f2aee4e71d21fbe5cf8b01ff0e069b9275f58929596ceb00d14d90e3e16cd6"
  }
  }
},
"nbformat": 4,
"nbformat_minor": 5
}
